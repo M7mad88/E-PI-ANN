{
 "cells": [
  {
   "cell_type": "markdown",
   "metadata": {},
   "source": [
    "# BANKING: DIRECT MARKETING CASE STUDY (CAMPAIGN RESPONSE MODEL) - CLASSIFICATION MODEL\n",
    "OBJECTIVE: This Business problem uses data related with direct marketing campaigns of a Portuguese banking institution. The marketing campaigns were based on phone calls. Often, more than one contact to the same client was required, in order to assess if the product (bank term deposit) would be subscribed ('yes') or not ('no')."
   ]
  },
  {
   "cell_type": "markdown",
   "metadata": {},
   "source": [
    "### Import Packages"
   ]
  },
  {
   "cell_type": "code",
   "execution_count": 1,
   "metadata": {},
   "outputs": [],
   "source": [
    "#Packages related to general operating system & warnings \n",
    "import warnings\n",
    "warnings.filterwarnings('ignore')\n",
    "\n",
    "#Packages related to data importing, manipulation, exploratory data analysis\n",
    "import numpy as np\n",
    "import pandas as pd\n",
    "\n",
    "#Packages related to data visualizaiton\n",
    "import seaborn as sns\n",
    "import matplotlib.pyplot as plt\n",
    "%matplotlib inline\n",
    "\n",
    "#Modules related to split the data & gridsearch\n",
    "from sklearn.model_selection import train_test_split\n",
    "\n",
    "#Module related to calculation of metrics\n",
    "from sklearn import metrics\n",
    "from sklearn.metrics import classification_report\n",
    "\n",
    "# ANN modules\n",
    "from tensorflow.keras import layers\n",
    "import tensorflow as tf\n",
    "from tensorflow.keras.models import Sequential\n",
    "from sklearn.metrics import confusion_matrix"
   ]
  },
  {
   "cell_type": "markdown",
   "metadata": {},
   "source": [
    "### create UDFs"
   ]
  },
  {
   "cell_type": "code",
   "execution_count": 2,
   "metadata": {},
   "outputs": [],
   "source": [
    "# Create Data audit Report for continuous variables\n",
    "def continuous_var_summary(x):\n",
    "    return pd.Series([x.count(), x.isnull().sum(), x.sum(), x.mean(), x.median(),  \n",
    "                      x.std(), x.var(), x.min(), x.quantile(0.01), x.quantile(0.05),\n",
    "                          x.quantile(0.10),x.quantile(0.25),x.quantile(0.50),x.quantile(0.75), \n",
    "                              x.quantile(0.90),x.quantile(0.95), x.quantile(0.99),x.max()], \n",
    "                  index = ['N', 'NMISS', 'SUM', 'MEAN','MEDIAN', 'STD', 'VAR', 'MIN', 'P1', \n",
    "                               'P5' ,'P10' ,'P25' ,'P50' ,'P75' ,'P90' ,'P95' ,'P99' ,'MAX'])"
   ]
  },
  {
   "cell_type": "markdown",
   "metadata": {},
   "source": [
    "### Import Data"
   ]
  },
  {
   "cell_type": "code",
   "execution_count": 3,
   "metadata": {},
   "outputs": [],
   "source": [
    "df=pd.read_csv('bank.csv', sep=\";\")"
   ]
  },
  {
   "cell_type": "code",
   "execution_count": 4,
   "metadata": {},
   "outputs": [
    {
     "data": {
      "text/html": [
       "<div>\n",
       "<style scoped>\n",
       "    .dataframe tbody tr th:only-of-type {\n",
       "        vertical-align: middle;\n",
       "    }\n",
       "\n",
       "    .dataframe tbody tr th {\n",
       "        vertical-align: top;\n",
       "    }\n",
       "\n",
       "    .dataframe thead th {\n",
       "        text-align: right;\n",
       "    }\n",
       "</style>\n",
       "<table border=\"1\" class=\"dataframe\">\n",
       "  <thead>\n",
       "    <tr style=\"text-align: right;\">\n",
       "      <th></th>\n",
       "      <th>age</th>\n",
       "      <th>job</th>\n",
       "      <th>marital</th>\n",
       "      <th>education</th>\n",
       "      <th>default</th>\n",
       "      <th>housing</th>\n",
       "      <th>loan</th>\n",
       "      <th>contact</th>\n",
       "      <th>month</th>\n",
       "      <th>day_of_week</th>\n",
       "      <th>...</th>\n",
       "      <th>campaign</th>\n",
       "      <th>pdays</th>\n",
       "      <th>previous</th>\n",
       "      <th>poutcome</th>\n",
       "      <th>emp.var.rate</th>\n",
       "      <th>cons.price.idx</th>\n",
       "      <th>cons.conf.idx</th>\n",
       "      <th>euribor3m</th>\n",
       "      <th>nr.employed</th>\n",
       "      <th>y</th>\n",
       "    </tr>\n",
       "  </thead>\n",
       "  <tbody>\n",
       "    <tr>\n",
       "      <th>0</th>\n",
       "      <td>30</td>\n",
       "      <td>blue-collar</td>\n",
       "      <td>married</td>\n",
       "      <td>basic.9y</td>\n",
       "      <td>no</td>\n",
       "      <td>yes</td>\n",
       "      <td>no</td>\n",
       "      <td>cellular</td>\n",
       "      <td>may</td>\n",
       "      <td>fri</td>\n",
       "      <td>...</td>\n",
       "      <td>2</td>\n",
       "      <td>999</td>\n",
       "      <td>0</td>\n",
       "      <td>nonexistent</td>\n",
       "      <td>-1.8</td>\n",
       "      <td>92.893</td>\n",
       "      <td>-46.2</td>\n",
       "      <td>1.313</td>\n",
       "      <td>5099.1</td>\n",
       "      <td>no</td>\n",
       "    </tr>\n",
       "    <tr>\n",
       "      <th>1</th>\n",
       "      <td>39</td>\n",
       "      <td>services</td>\n",
       "      <td>single</td>\n",
       "      <td>high.school</td>\n",
       "      <td>no</td>\n",
       "      <td>no</td>\n",
       "      <td>no</td>\n",
       "      <td>telephone</td>\n",
       "      <td>may</td>\n",
       "      <td>fri</td>\n",
       "      <td>...</td>\n",
       "      <td>4</td>\n",
       "      <td>999</td>\n",
       "      <td>0</td>\n",
       "      <td>nonexistent</td>\n",
       "      <td>1.1</td>\n",
       "      <td>93.994</td>\n",
       "      <td>-36.4</td>\n",
       "      <td>4.855</td>\n",
       "      <td>5191.0</td>\n",
       "      <td>no</td>\n",
       "    </tr>\n",
       "    <tr>\n",
       "      <th>2</th>\n",
       "      <td>25</td>\n",
       "      <td>services</td>\n",
       "      <td>married</td>\n",
       "      <td>high.school</td>\n",
       "      <td>no</td>\n",
       "      <td>yes</td>\n",
       "      <td>no</td>\n",
       "      <td>telephone</td>\n",
       "      <td>jun</td>\n",
       "      <td>wed</td>\n",
       "      <td>...</td>\n",
       "      <td>1</td>\n",
       "      <td>999</td>\n",
       "      <td>0</td>\n",
       "      <td>nonexistent</td>\n",
       "      <td>1.4</td>\n",
       "      <td>94.465</td>\n",
       "      <td>-41.8</td>\n",
       "      <td>4.962</td>\n",
       "      <td>5228.1</td>\n",
       "      <td>no</td>\n",
       "    </tr>\n",
       "    <tr>\n",
       "      <th>3</th>\n",
       "      <td>38</td>\n",
       "      <td>services</td>\n",
       "      <td>married</td>\n",
       "      <td>basic.9y</td>\n",
       "      <td>no</td>\n",
       "      <td>unknown</td>\n",
       "      <td>unknown</td>\n",
       "      <td>telephone</td>\n",
       "      <td>jun</td>\n",
       "      <td>fri</td>\n",
       "      <td>...</td>\n",
       "      <td>3</td>\n",
       "      <td>999</td>\n",
       "      <td>0</td>\n",
       "      <td>nonexistent</td>\n",
       "      <td>1.4</td>\n",
       "      <td>94.465</td>\n",
       "      <td>-41.8</td>\n",
       "      <td>4.959</td>\n",
       "      <td>5228.1</td>\n",
       "      <td>no</td>\n",
       "    </tr>\n",
       "    <tr>\n",
       "      <th>4</th>\n",
       "      <td>47</td>\n",
       "      <td>admin.</td>\n",
       "      <td>married</td>\n",
       "      <td>university.degree</td>\n",
       "      <td>no</td>\n",
       "      <td>yes</td>\n",
       "      <td>no</td>\n",
       "      <td>cellular</td>\n",
       "      <td>nov</td>\n",
       "      <td>mon</td>\n",
       "      <td>...</td>\n",
       "      <td>1</td>\n",
       "      <td>999</td>\n",
       "      <td>0</td>\n",
       "      <td>nonexistent</td>\n",
       "      <td>-0.1</td>\n",
       "      <td>93.200</td>\n",
       "      <td>-42.0</td>\n",
       "      <td>4.191</td>\n",
       "      <td>5195.8</td>\n",
       "      <td>no</td>\n",
       "    </tr>\n",
       "  </tbody>\n",
       "</table>\n",
       "<p>5 rows × 21 columns</p>\n",
       "</div>"
      ],
      "text/plain": [
       "   age          job  marital          education default  housing     loan  \\\n",
       "0   30  blue-collar  married           basic.9y      no      yes       no   \n",
       "1   39     services   single        high.school      no       no       no   \n",
       "2   25     services  married        high.school      no      yes       no   \n",
       "3   38     services  married           basic.9y      no  unknown  unknown   \n",
       "4   47       admin.  married  university.degree      no      yes       no   \n",
       "\n",
       "     contact month day_of_week  ...  campaign  pdays  previous     poutcome  \\\n",
       "0   cellular   may         fri  ...         2    999         0  nonexistent   \n",
       "1  telephone   may         fri  ...         4    999         0  nonexistent   \n",
       "2  telephone   jun         wed  ...         1    999         0  nonexistent   \n",
       "3  telephone   jun         fri  ...         3    999         0  nonexistent   \n",
       "4   cellular   nov         mon  ...         1    999         0  nonexistent   \n",
       "\n",
       "  emp.var.rate  cons.price.idx  cons.conf.idx  euribor3m  nr.employed   y  \n",
       "0         -1.8          92.893          -46.2      1.313       5099.1  no  \n",
       "1          1.1          93.994          -36.4      4.855       5191.0  no  \n",
       "2          1.4          94.465          -41.8      4.962       5228.1  no  \n",
       "3          1.4          94.465          -41.8      4.959       5228.1  no  \n",
       "4         -0.1          93.200          -42.0      4.191       5195.8  no  \n",
       "\n",
       "[5 rows x 21 columns]"
      ]
     },
     "execution_count": 4,
     "metadata": {},
     "output_type": "execute_result"
    }
   ],
   "source": [
    "df.head()"
   ]
  },
  {
   "cell_type": "markdown",
   "metadata": {},
   "source": [
    "### Data Preparation"
   ]
  },
  {
   "cell_type": "code",
   "execution_count": 5,
   "metadata": {},
   "outputs": [
    {
     "name": "stdout",
     "output_type": "stream",
     "text": [
      "<class 'pandas.core.frame.DataFrame'>\n",
      "RangeIndex: 4119 entries, 0 to 4118\n",
      "Data columns (total 21 columns):\n",
      " #   Column          Non-Null Count  Dtype  \n",
      "---  ------          --------------  -----  \n",
      " 0   age             4119 non-null   int64  \n",
      " 1   job             4119 non-null   object \n",
      " 2   marital         4119 non-null   object \n",
      " 3   education       4119 non-null   object \n",
      " 4   default         4119 non-null   object \n",
      " 5   housing         4119 non-null   object \n",
      " 6   loan            4119 non-null   object \n",
      " 7   contact         4119 non-null   object \n",
      " 8   month           4119 non-null   object \n",
      " 9   day_of_week     4119 non-null   object \n",
      " 10  duration        4119 non-null   int64  \n",
      " 11  campaign        4119 non-null   int64  \n",
      " 12  pdays           4119 non-null   int64  \n",
      " 13  previous        4119 non-null   int64  \n",
      " 14  poutcome        4119 non-null   object \n",
      " 15  emp.var.rate    4119 non-null   float64\n",
      " 16  cons.price.idx  4119 non-null   float64\n",
      " 17  cons.conf.idx   4119 non-null   float64\n",
      " 18  euribor3m       4119 non-null   float64\n",
      " 19  nr.employed     4119 non-null   float64\n",
      " 20  y               4119 non-null   object \n",
      "dtypes: float64(5), int64(5), object(11)\n",
      "memory usage: 675.9+ KB\n"
     ]
    }
   ],
   "source": [
    "df.info()"
   ]
  },
  {
   "cell_type": "code",
   "execution_count": 6,
   "metadata": {},
   "outputs": [],
   "source": [
    "# Default & pdays droped because of high cardinality, euribor3m, nr.employed dropped because of high correlations with some other variables,\n",
    "# cons.price.idx is dropeed because of less CV \n",
    "df.drop(['default', 'euribor3m', 'nr.employed', 'cons.price.idx', 'pdays'], axis=1, inplace=True)"
   ]
  },
  {
   "cell_type": "code",
   "execution_count": 7,
   "metadata": {},
   "outputs": [
    {
     "data": {
      "text/plain": [
       "Index(['age', 'job', 'marital', 'education', 'housing', 'loan', 'contact',\n",
       "       'month', 'day_of_week', 'duration', 'campaign', 'previous', 'poutcome',\n",
       "       'emp.var.rate', 'cons.conf.idx', 'y'],\n",
       "      dtype='object')"
      ]
     },
     "execution_count": 7,
     "metadata": {},
     "output_type": "execute_result"
    }
   ],
   "source": [
    "df.columns"
   ]
  },
  {
   "cell_type": "code",
   "execution_count": 8,
   "metadata": {},
   "outputs": [],
   "source": [
    "# Handling unknown & 999 values\n",
    "def missing_value_treat(x):\n",
    "    if ((x.dtype=='float') or (x.dtype=='int')):\n",
    "        x[x==999] = np.nan\n",
    "        x=x.fillna(x.median())\n",
    "    else:\n",
    "        x[x=='unknown'] = np.nan\n",
    "        x=x.fillna(x.mode()[0])\n",
    "        \n",
    "    return x  "
   ]
  },
  {
   "cell_type": "code",
   "execution_count": 9,
   "metadata": {},
   "outputs": [],
   "source": [
    "df = df.apply(missing_value_treat)"
   ]
  },
  {
   "cell_type": "code",
   "execution_count": 10,
   "metadata": {},
   "outputs": [],
   "source": [
    "# split data to continous and categorical varaiables.\n",
    "num_var=df.select_dtypes(include=['float64','int64'])\n",
    "cat_var=df.select_dtypes(['object'])"
   ]
  },
  {
   "cell_type": "code",
   "execution_count": 11,
   "metadata": {},
   "outputs": [
    {
     "data": {
      "text/plain": [
       "Index(['age', 'duration', 'campaign', 'previous', 'emp.var.rate',\n",
       "       'cons.conf.idx'],\n",
       "      dtype='object')"
      ]
     },
     "execution_count": 11,
     "metadata": {},
     "output_type": "execute_result"
    }
   ],
   "source": [
    "num_var.columns"
   ]
  },
  {
   "cell_type": "code",
   "execution_count": 12,
   "metadata": {},
   "outputs": [
    {
     "data": {
      "text/plain": [
       "Index(['job', 'marital', 'education', 'housing', 'loan', 'contact', 'month',\n",
       "       'day_of_week', 'poutcome', 'y'],\n",
       "      dtype='object')"
      ]
     },
     "execution_count": 12,
     "metadata": {},
     "output_type": "execute_result"
    }
   ],
   "source": [
    "cat_var.columns"
   ]
  },
  {
   "cell_type": "code",
   "execution_count": 13,
   "metadata": {},
   "outputs": [
    {
     "data": {
      "text/html": [
       "<div>\n",
       "<style scoped>\n",
       "    .dataframe tbody tr th:only-of-type {\n",
       "        vertical-align: middle;\n",
       "    }\n",
       "\n",
       "    .dataframe tbody tr th {\n",
       "        vertical-align: top;\n",
       "    }\n",
       "\n",
       "    .dataframe thead th {\n",
       "        text-align: right;\n",
       "    }\n",
       "</style>\n",
       "<table border=\"1\" class=\"dataframe\">\n",
       "  <thead>\n",
       "    <tr style=\"text-align: right;\">\n",
       "      <th></th>\n",
       "      <th>age</th>\n",
       "      <th>duration</th>\n",
       "      <th>campaign</th>\n",
       "      <th>previous</th>\n",
       "      <th>emp.var.rate</th>\n",
       "      <th>cons.conf.idx</th>\n",
       "    </tr>\n",
       "  </thead>\n",
       "  <tbody>\n",
       "    <tr>\n",
       "      <th>N</th>\n",
       "      <td>4119.000000</td>\n",
       "      <td>4.119000e+03</td>\n",
       "      <td>4119.000000</td>\n",
       "      <td>4119.000000</td>\n",
       "      <td>4119.000000</td>\n",
       "      <td>4119.000000</td>\n",
       "    </tr>\n",
       "    <tr>\n",
       "      <th>NMISS</th>\n",
       "      <td>0.000000</td>\n",
       "      <td>0.000000e+00</td>\n",
       "      <td>0.000000</td>\n",
       "      <td>0.000000</td>\n",
       "      <td>0.000000</td>\n",
       "      <td>0.000000</td>\n",
       "    </tr>\n",
       "    <tr>\n",
       "      <th>SUM</th>\n",
       "      <td>165228.000000</td>\n",
       "      <td>1.057710e+06</td>\n",
       "      <td>10451.000000</td>\n",
       "      <td>784.000000</td>\n",
       "      <td>350.000000</td>\n",
       "      <td>-166815.800000</td>\n",
       "    </tr>\n",
       "    <tr>\n",
       "      <th>MEAN</th>\n",
       "      <td>40.113620</td>\n",
       "      <td>2.567881e+02</td>\n",
       "      <td>2.537266</td>\n",
       "      <td>0.190337</td>\n",
       "      <td>0.084972</td>\n",
       "      <td>-40.499102</td>\n",
       "    </tr>\n",
       "    <tr>\n",
       "      <th>MEDIAN</th>\n",
       "      <td>38.000000</td>\n",
       "      <td>1.810000e+02</td>\n",
       "      <td>2.000000</td>\n",
       "      <td>0.000000</td>\n",
       "      <td>1.100000</td>\n",
       "      <td>-41.800000</td>\n",
       "    </tr>\n",
       "    <tr>\n",
       "      <th>STD</th>\n",
       "      <td>10.313362</td>\n",
       "      <td>2.547037e+02</td>\n",
       "      <td>2.568159</td>\n",
       "      <td>0.541788</td>\n",
       "      <td>1.563114</td>\n",
       "      <td>4.594578</td>\n",
       "    </tr>\n",
       "    <tr>\n",
       "      <th>VAR</th>\n",
       "      <td>106.365426</td>\n",
       "      <td>6.487399e+04</td>\n",
       "      <td>6.595442</td>\n",
       "      <td>0.293535</td>\n",
       "      <td>2.443327</td>\n",
       "      <td>21.110142</td>\n",
       "    </tr>\n",
       "    <tr>\n",
       "      <th>MIN</th>\n",
       "      <td>18.000000</td>\n",
       "      <td>0.000000e+00</td>\n",
       "      <td>1.000000</td>\n",
       "      <td>0.000000</td>\n",
       "      <td>-3.400000</td>\n",
       "      <td>-50.800000</td>\n",
       "    </tr>\n",
       "    <tr>\n",
       "      <th>P1</th>\n",
       "      <td>24.000000</td>\n",
       "      <td>1.100000e+01</td>\n",
       "      <td>1.000000</td>\n",
       "      <td>0.000000</td>\n",
       "      <td>-3.400000</td>\n",
       "      <td>-50.000000</td>\n",
       "    </tr>\n",
       "    <tr>\n",
       "      <th>P5</th>\n",
       "      <td>26.000000</td>\n",
       "      <td>3.500000e+01</td>\n",
       "      <td>1.000000</td>\n",
       "      <td>0.000000</td>\n",
       "      <td>-2.900000</td>\n",
       "      <td>-47.100000</td>\n",
       "    </tr>\n",
       "    <tr>\n",
       "      <th>P10</th>\n",
       "      <td>28.800000</td>\n",
       "      <td>6.000000e+01</td>\n",
       "      <td>1.000000</td>\n",
       "      <td>0.000000</td>\n",
       "      <td>-1.800000</td>\n",
       "      <td>-46.200000</td>\n",
       "    </tr>\n",
       "    <tr>\n",
       "      <th>P25</th>\n",
       "      <td>32.000000</td>\n",
       "      <td>1.030000e+02</td>\n",
       "      <td>1.000000</td>\n",
       "      <td>0.000000</td>\n",
       "      <td>-1.800000</td>\n",
       "      <td>-42.700000</td>\n",
       "    </tr>\n",
       "    <tr>\n",
       "      <th>P50</th>\n",
       "      <td>38.000000</td>\n",
       "      <td>1.810000e+02</td>\n",
       "      <td>2.000000</td>\n",
       "      <td>0.000000</td>\n",
       "      <td>1.100000</td>\n",
       "      <td>-41.800000</td>\n",
       "    </tr>\n",
       "    <tr>\n",
       "      <th>P75</th>\n",
       "      <td>47.000000</td>\n",
       "      <td>3.170000e+02</td>\n",
       "      <td>3.000000</td>\n",
       "      <td>0.000000</td>\n",
       "      <td>1.400000</td>\n",
       "      <td>-36.400000</td>\n",
       "    </tr>\n",
       "    <tr>\n",
       "      <th>P90</th>\n",
       "      <td>55.000000</td>\n",
       "      <td>5.452000e+02</td>\n",
       "      <td>5.000000</td>\n",
       "      <td>1.000000</td>\n",
       "      <td>1.400000</td>\n",
       "      <td>-36.100000</td>\n",
       "    </tr>\n",
       "    <tr>\n",
       "      <th>P95</th>\n",
       "      <td>58.000000</td>\n",
       "      <td>7.402000e+02</td>\n",
       "      <td>7.000000</td>\n",
       "      <td>1.000000</td>\n",
       "      <td>1.400000</td>\n",
       "      <td>-33.600000</td>\n",
       "    </tr>\n",
       "    <tr>\n",
       "      <th>P99</th>\n",
       "      <td>68.000000</td>\n",
       "      <td>1.231660e+03</td>\n",
       "      <td>13.000000</td>\n",
       "      <td>3.000000</td>\n",
       "      <td>1.400000</td>\n",
       "      <td>-26.900000</td>\n",
       "    </tr>\n",
       "    <tr>\n",
       "      <th>MAX</th>\n",
       "      <td>88.000000</td>\n",
       "      <td>3.643000e+03</td>\n",
       "      <td>35.000000</td>\n",
       "      <td>6.000000</td>\n",
       "      <td>1.400000</td>\n",
       "      <td>-26.900000</td>\n",
       "    </tr>\n",
       "  </tbody>\n",
       "</table>\n",
       "</div>"
      ],
      "text/plain": [
       "                  age      duration      campaign     previous  emp.var.rate  \\\n",
       "N         4119.000000  4.119000e+03   4119.000000  4119.000000   4119.000000   \n",
       "NMISS        0.000000  0.000000e+00      0.000000     0.000000      0.000000   \n",
       "SUM     165228.000000  1.057710e+06  10451.000000   784.000000    350.000000   \n",
       "MEAN        40.113620  2.567881e+02      2.537266     0.190337      0.084972   \n",
       "MEDIAN      38.000000  1.810000e+02      2.000000     0.000000      1.100000   \n",
       "STD         10.313362  2.547037e+02      2.568159     0.541788      1.563114   \n",
       "VAR        106.365426  6.487399e+04      6.595442     0.293535      2.443327   \n",
       "MIN         18.000000  0.000000e+00      1.000000     0.000000     -3.400000   \n",
       "P1          24.000000  1.100000e+01      1.000000     0.000000     -3.400000   \n",
       "P5          26.000000  3.500000e+01      1.000000     0.000000     -2.900000   \n",
       "P10         28.800000  6.000000e+01      1.000000     0.000000     -1.800000   \n",
       "P25         32.000000  1.030000e+02      1.000000     0.000000     -1.800000   \n",
       "P50         38.000000  1.810000e+02      2.000000     0.000000      1.100000   \n",
       "P75         47.000000  3.170000e+02      3.000000     0.000000      1.400000   \n",
       "P90         55.000000  5.452000e+02      5.000000     1.000000      1.400000   \n",
       "P95         58.000000  7.402000e+02      7.000000     1.000000      1.400000   \n",
       "P99         68.000000  1.231660e+03     13.000000     3.000000      1.400000   \n",
       "MAX         88.000000  3.643000e+03     35.000000     6.000000      1.400000   \n",
       "\n",
       "        cons.conf.idx  \n",
       "N         4119.000000  \n",
       "NMISS        0.000000  \n",
       "SUM    -166815.800000  \n",
       "MEAN       -40.499102  \n",
       "MEDIAN     -41.800000  \n",
       "STD          4.594578  \n",
       "VAR         21.110142  \n",
       "MIN        -50.800000  \n",
       "P1         -50.000000  \n",
       "P5         -47.100000  \n",
       "P10        -46.200000  \n",
       "P25        -42.700000  \n",
       "P50        -41.800000  \n",
       "P75        -36.400000  \n",
       "P90        -36.100000  \n",
       "P95        -33.600000  \n",
       "P99        -26.900000  \n",
       "MAX        -26.900000  "
      ]
     },
     "execution_count": 13,
     "metadata": {},
     "output_type": "execute_result"
    }
   ],
   "source": [
    "num_var.apply(continuous_var_summary)"
   ]
  },
  {
   "cell_type": "code",
   "execution_count": 14,
   "metadata": {},
   "outputs": [
    {
     "data": {
      "text/html": [
       "<div>\n",
       "<style scoped>\n",
       "    .dataframe tbody tr th:only-of-type {\n",
       "        vertical-align: middle;\n",
       "    }\n",
       "\n",
       "    .dataframe tbody tr th {\n",
       "        vertical-align: top;\n",
       "    }\n",
       "\n",
       "    .dataframe thead th {\n",
       "        text-align: right;\n",
       "    }\n",
       "</style>\n",
       "<table border=\"1\" class=\"dataframe\">\n",
       "  <thead>\n",
       "    <tr style=\"text-align: right;\">\n",
       "      <th></th>\n",
       "      <th>job</th>\n",
       "      <th>marital</th>\n",
       "      <th>education</th>\n",
       "      <th>housing</th>\n",
       "      <th>loan</th>\n",
       "      <th>contact</th>\n",
       "      <th>month</th>\n",
       "      <th>day_of_week</th>\n",
       "      <th>poutcome</th>\n",
       "      <th>y</th>\n",
       "    </tr>\n",
       "  </thead>\n",
       "  <tbody>\n",
       "    <tr>\n",
       "      <th>count</th>\n",
       "      <td>4119</td>\n",
       "      <td>4119</td>\n",
       "      <td>4119</td>\n",
       "      <td>4119</td>\n",
       "      <td>4119</td>\n",
       "      <td>4119</td>\n",
       "      <td>4119</td>\n",
       "      <td>4119</td>\n",
       "      <td>4119</td>\n",
       "      <td>4119</td>\n",
       "    </tr>\n",
       "    <tr>\n",
       "      <th>unique</th>\n",
       "      <td>11</td>\n",
       "      <td>3</td>\n",
       "      <td>7</td>\n",
       "      <td>2</td>\n",
       "      <td>2</td>\n",
       "      <td>2</td>\n",
       "      <td>10</td>\n",
       "      <td>5</td>\n",
       "      <td>3</td>\n",
       "      <td>2</td>\n",
       "    </tr>\n",
       "    <tr>\n",
       "      <th>top</th>\n",
       "      <td>admin.</td>\n",
       "      <td>married</td>\n",
       "      <td>university.degree</td>\n",
       "      <td>yes</td>\n",
       "      <td>no</td>\n",
       "      <td>cellular</td>\n",
       "      <td>may</td>\n",
       "      <td>thu</td>\n",
       "      <td>nonexistent</td>\n",
       "      <td>no</td>\n",
       "    </tr>\n",
       "    <tr>\n",
       "      <th>freq</th>\n",
       "      <td>1051</td>\n",
       "      <td>2520</td>\n",
       "      <td>1431</td>\n",
       "      <td>2280</td>\n",
       "      <td>3454</td>\n",
       "      <td>2652</td>\n",
       "      <td>1378</td>\n",
       "      <td>860</td>\n",
       "      <td>3523</td>\n",
       "      <td>3668</td>\n",
       "    </tr>\n",
       "  </tbody>\n",
       "</table>\n",
       "</div>"
      ],
      "text/plain": [
       "           job  marital          education housing  loan   contact month  \\\n",
       "count     4119     4119               4119    4119  4119      4119  4119   \n",
       "unique      11        3                  7       2     2         2    10   \n",
       "top     admin.  married  university.degree     yes    no  cellular   may   \n",
       "freq      1051     2520               1431    2280  3454      2652  1378   \n",
       "\n",
       "       day_of_week     poutcome     y  \n",
       "count         4119         4119  4119  \n",
       "unique           5            3     2  \n",
       "top            thu  nonexistent    no  \n",
       "freq           860         3523  3668  "
      ]
     },
     "execution_count": 14,
     "metadata": {},
     "output_type": "execute_result"
    }
   ],
   "source": [
    "cat_var.describe(include='O')"
   ]
  },
  {
   "cell_type": "code",
   "execution_count": 15,
   "metadata": {},
   "outputs": [],
   "source": [
    "# Outlier treatment\n",
    "num_var = num_var.apply(lambda x: x.clip(lower = x.quantile(0.01), upper = x.quantile(0.99)))"
   ]
  },
  {
   "cell_type": "code",
   "execution_count": 16,
   "metadata": {},
   "outputs": [
    {
     "data": {
      "text/html": [
       "<div>\n",
       "<style scoped>\n",
       "    .dataframe tbody tr th:only-of-type {\n",
       "        vertical-align: middle;\n",
       "    }\n",
       "\n",
       "    .dataframe tbody tr th {\n",
       "        vertical-align: top;\n",
       "    }\n",
       "\n",
       "    .dataframe thead th {\n",
       "        text-align: right;\n",
       "    }\n",
       "</style>\n",
       "<table border=\"1\" class=\"dataframe\">\n",
       "  <thead>\n",
       "    <tr style=\"text-align: right;\">\n",
       "      <th></th>\n",
       "      <th>age</th>\n",
       "      <th>duration</th>\n",
       "      <th>campaign</th>\n",
       "      <th>previous</th>\n",
       "      <th>emp.var.rate</th>\n",
       "      <th>cons.conf.idx</th>\n",
       "    </tr>\n",
       "  </thead>\n",
       "  <tbody>\n",
       "    <tr>\n",
       "      <th>N</th>\n",
       "      <td>4119.000000</td>\n",
       "      <td>4.119000e+03</td>\n",
       "      <td>4119.000000</td>\n",
       "      <td>4119.000000</td>\n",
       "      <td>4119.000000</td>\n",
       "      <td>4119.000000</td>\n",
       "    </tr>\n",
       "    <tr>\n",
       "      <th>NMISS</th>\n",
       "      <td>0.000000</td>\n",
       "      <td>0.000000e+00</td>\n",
       "      <td>0.000000</td>\n",
       "      <td>0.000000</td>\n",
       "      <td>0.000000</td>\n",
       "      <td>0.000000</td>\n",
       "    </tr>\n",
       "    <tr>\n",
       "      <th>SUM</th>\n",
       "      <td>164980.000000</td>\n",
       "      <td>1.041868e+06</td>\n",
       "      <td>10230.000000</td>\n",
       "      <td>760.000000</td>\n",
       "      <td>350.000000</td>\n",
       "      <td>-166796.600000</td>\n",
       "    </tr>\n",
       "    <tr>\n",
       "      <th>MEAN</th>\n",
       "      <td>40.053411</td>\n",
       "      <td>2.529419e+02</td>\n",
       "      <td>2.483613</td>\n",
       "      <td>0.184511</td>\n",
       "      <td>0.084972</td>\n",
       "      <td>-40.494440</td>\n",
       "    </tr>\n",
       "    <tr>\n",
       "      <th>MEDIAN</th>\n",
       "      <td>38.000000</td>\n",
       "      <td>1.810000e+02</td>\n",
       "      <td>2.000000</td>\n",
       "      <td>0.000000</td>\n",
       "      <td>1.100000</td>\n",
       "      <td>-41.800000</td>\n",
       "    </tr>\n",
       "    <tr>\n",
       "      <th>STD</th>\n",
       "      <td>9.996408</td>\n",
       "      <td>2.306667e+02</td>\n",
       "      <td>2.228488</td>\n",
       "      <td>0.501036</td>\n",
       "      <td>1.563114</td>\n",
       "      <td>4.584517</td>\n",
       "    </tr>\n",
       "    <tr>\n",
       "      <th>VAR</th>\n",
       "      <td>99.928181</td>\n",
       "      <td>5.320713e+04</td>\n",
       "      <td>4.966159</td>\n",
       "      <td>0.251037</td>\n",
       "      <td>2.443327</td>\n",
       "      <td>21.017796</td>\n",
       "    </tr>\n",
       "    <tr>\n",
       "      <th>MIN</th>\n",
       "      <td>24.000000</td>\n",
       "      <td>1.100000e+01</td>\n",
       "      <td>1.000000</td>\n",
       "      <td>0.000000</td>\n",
       "      <td>-3.400000</td>\n",
       "      <td>-50.000000</td>\n",
       "    </tr>\n",
       "    <tr>\n",
       "      <th>P1</th>\n",
       "      <td>24.000000</td>\n",
       "      <td>1.100000e+01</td>\n",
       "      <td>1.000000</td>\n",
       "      <td>0.000000</td>\n",
       "      <td>-3.400000</td>\n",
       "      <td>-50.000000</td>\n",
       "    </tr>\n",
       "    <tr>\n",
       "      <th>P5</th>\n",
       "      <td>26.000000</td>\n",
       "      <td>3.500000e+01</td>\n",
       "      <td>1.000000</td>\n",
       "      <td>0.000000</td>\n",
       "      <td>-2.900000</td>\n",
       "      <td>-47.100000</td>\n",
       "    </tr>\n",
       "    <tr>\n",
       "      <th>P10</th>\n",
       "      <td>28.800000</td>\n",
       "      <td>6.000000e+01</td>\n",
       "      <td>1.000000</td>\n",
       "      <td>0.000000</td>\n",
       "      <td>-1.800000</td>\n",
       "      <td>-46.200000</td>\n",
       "    </tr>\n",
       "    <tr>\n",
       "      <th>P25</th>\n",
       "      <td>32.000000</td>\n",
       "      <td>1.030000e+02</td>\n",
       "      <td>1.000000</td>\n",
       "      <td>0.000000</td>\n",
       "      <td>-1.800000</td>\n",
       "      <td>-42.700000</td>\n",
       "    </tr>\n",
       "    <tr>\n",
       "      <th>P50</th>\n",
       "      <td>38.000000</td>\n",
       "      <td>1.810000e+02</td>\n",
       "      <td>2.000000</td>\n",
       "      <td>0.000000</td>\n",
       "      <td>1.100000</td>\n",
       "      <td>-41.800000</td>\n",
       "    </tr>\n",
       "    <tr>\n",
       "      <th>P75</th>\n",
       "      <td>47.000000</td>\n",
       "      <td>3.170000e+02</td>\n",
       "      <td>3.000000</td>\n",
       "      <td>0.000000</td>\n",
       "      <td>1.400000</td>\n",
       "      <td>-36.400000</td>\n",
       "    </tr>\n",
       "    <tr>\n",
       "      <th>P90</th>\n",
       "      <td>55.000000</td>\n",
       "      <td>5.452000e+02</td>\n",
       "      <td>5.000000</td>\n",
       "      <td>1.000000</td>\n",
       "      <td>1.400000</td>\n",
       "      <td>-36.100000</td>\n",
       "    </tr>\n",
       "    <tr>\n",
       "      <th>P95</th>\n",
       "      <td>58.000000</td>\n",
       "      <td>7.402000e+02</td>\n",
       "      <td>7.000000</td>\n",
       "      <td>1.000000</td>\n",
       "      <td>1.400000</td>\n",
       "      <td>-33.600000</td>\n",
       "    </tr>\n",
       "    <tr>\n",
       "      <th>P99</th>\n",
       "      <td>68.000000</td>\n",
       "      <td>1.229741e+03</td>\n",
       "      <td>13.000000</td>\n",
       "      <td>3.000000</td>\n",
       "      <td>1.400000</td>\n",
       "      <td>-26.900000</td>\n",
       "    </tr>\n",
       "    <tr>\n",
       "      <th>MAX</th>\n",
       "      <td>68.000000</td>\n",
       "      <td>1.231660e+03</td>\n",
       "      <td>13.000000</td>\n",
       "      <td>3.000000</td>\n",
       "      <td>1.400000</td>\n",
       "      <td>-26.900000</td>\n",
       "    </tr>\n",
       "  </tbody>\n",
       "</table>\n",
       "</div>"
      ],
      "text/plain": [
       "                  age      duration      campaign     previous  emp.var.rate  \\\n",
       "N         4119.000000  4.119000e+03   4119.000000  4119.000000   4119.000000   \n",
       "NMISS        0.000000  0.000000e+00      0.000000     0.000000      0.000000   \n",
       "SUM     164980.000000  1.041868e+06  10230.000000   760.000000    350.000000   \n",
       "MEAN        40.053411  2.529419e+02      2.483613     0.184511      0.084972   \n",
       "MEDIAN      38.000000  1.810000e+02      2.000000     0.000000      1.100000   \n",
       "STD          9.996408  2.306667e+02      2.228488     0.501036      1.563114   \n",
       "VAR         99.928181  5.320713e+04      4.966159     0.251037      2.443327   \n",
       "MIN         24.000000  1.100000e+01      1.000000     0.000000     -3.400000   \n",
       "P1          24.000000  1.100000e+01      1.000000     0.000000     -3.400000   \n",
       "P5          26.000000  3.500000e+01      1.000000     0.000000     -2.900000   \n",
       "P10         28.800000  6.000000e+01      1.000000     0.000000     -1.800000   \n",
       "P25         32.000000  1.030000e+02      1.000000     0.000000     -1.800000   \n",
       "P50         38.000000  1.810000e+02      2.000000     0.000000      1.100000   \n",
       "P75         47.000000  3.170000e+02      3.000000     0.000000      1.400000   \n",
       "P90         55.000000  5.452000e+02      5.000000     1.000000      1.400000   \n",
       "P95         58.000000  7.402000e+02      7.000000     1.000000      1.400000   \n",
       "P99         68.000000  1.229741e+03     13.000000     3.000000      1.400000   \n",
       "MAX         68.000000  1.231660e+03     13.000000     3.000000      1.400000   \n",
       "\n",
       "        cons.conf.idx  \n",
       "N         4119.000000  \n",
       "NMISS        0.000000  \n",
       "SUM    -166796.600000  \n",
       "MEAN       -40.494440  \n",
       "MEDIAN     -41.800000  \n",
       "STD          4.584517  \n",
       "VAR         21.017796  \n",
       "MIN        -50.000000  \n",
       "P1         -50.000000  \n",
       "P5         -47.100000  \n",
       "P10        -46.200000  \n",
       "P25        -42.700000  \n",
       "P50        -41.800000  \n",
       "P75        -36.400000  \n",
       "P90        -36.100000  \n",
       "P95        -33.600000  \n",
       "P99        -26.900000  \n",
       "MAX        -26.900000  "
      ]
     },
     "execution_count": 16,
     "metadata": {},
     "output_type": "execute_result"
    }
   ],
   "source": [
    "num_var.apply(continuous_var_summary)"
   ]
  },
  {
   "cell_type": "code",
   "execution_count": 17,
   "metadata": {},
   "outputs": [],
   "source": [
    "data_final = pd.concat([num_var, cat_var],axis=1)"
   ]
  },
  {
   "cell_type": "code",
   "execution_count": 18,
   "metadata": {},
   "outputs": [
    {
     "data": {
      "text/html": [
       "<div>\n",
       "<style scoped>\n",
       "    .dataframe tbody tr th:only-of-type {\n",
       "        vertical-align: middle;\n",
       "    }\n",
       "\n",
       "    .dataframe tbody tr th {\n",
       "        vertical-align: top;\n",
       "    }\n",
       "\n",
       "    .dataframe thead th {\n",
       "        text-align: right;\n",
       "    }\n",
       "</style>\n",
       "<table border=\"1\" class=\"dataframe\">\n",
       "  <thead>\n",
       "    <tr style=\"text-align: right;\">\n",
       "      <th></th>\n",
       "      <th>age</th>\n",
       "      <th>duration</th>\n",
       "      <th>campaign</th>\n",
       "      <th>previous</th>\n",
       "      <th>emp.var.rate</th>\n",
       "      <th>cons.conf.idx</th>\n",
       "      <th>job</th>\n",
       "      <th>marital</th>\n",
       "      <th>education</th>\n",
       "      <th>housing</th>\n",
       "      <th>loan</th>\n",
       "      <th>contact</th>\n",
       "      <th>month</th>\n",
       "      <th>day_of_week</th>\n",
       "      <th>poutcome</th>\n",
       "      <th>y</th>\n",
       "    </tr>\n",
       "  </thead>\n",
       "  <tbody>\n",
       "    <tr>\n",
       "      <th>0</th>\n",
       "      <td>30.0</td>\n",
       "      <td>487.0</td>\n",
       "      <td>2.0</td>\n",
       "      <td>0.0</td>\n",
       "      <td>-1.8</td>\n",
       "      <td>-46.2</td>\n",
       "      <td>blue-collar</td>\n",
       "      <td>married</td>\n",
       "      <td>basic.9y</td>\n",
       "      <td>yes</td>\n",
       "      <td>no</td>\n",
       "      <td>cellular</td>\n",
       "      <td>may</td>\n",
       "      <td>fri</td>\n",
       "      <td>nonexistent</td>\n",
       "      <td>no</td>\n",
       "    </tr>\n",
       "    <tr>\n",
       "      <th>1</th>\n",
       "      <td>39.0</td>\n",
       "      <td>346.0</td>\n",
       "      <td>4.0</td>\n",
       "      <td>0.0</td>\n",
       "      <td>1.1</td>\n",
       "      <td>-36.4</td>\n",
       "      <td>services</td>\n",
       "      <td>single</td>\n",
       "      <td>high.school</td>\n",
       "      <td>no</td>\n",
       "      <td>no</td>\n",
       "      <td>telephone</td>\n",
       "      <td>may</td>\n",
       "      <td>fri</td>\n",
       "      <td>nonexistent</td>\n",
       "      <td>no</td>\n",
       "    </tr>\n",
       "    <tr>\n",
       "      <th>2</th>\n",
       "      <td>25.0</td>\n",
       "      <td>227.0</td>\n",
       "      <td>1.0</td>\n",
       "      <td>0.0</td>\n",
       "      <td>1.4</td>\n",
       "      <td>-41.8</td>\n",
       "      <td>services</td>\n",
       "      <td>married</td>\n",
       "      <td>high.school</td>\n",
       "      <td>yes</td>\n",
       "      <td>no</td>\n",
       "      <td>telephone</td>\n",
       "      <td>jun</td>\n",
       "      <td>wed</td>\n",
       "      <td>nonexistent</td>\n",
       "      <td>no</td>\n",
       "    </tr>\n",
       "    <tr>\n",
       "      <th>3</th>\n",
       "      <td>38.0</td>\n",
       "      <td>17.0</td>\n",
       "      <td>3.0</td>\n",
       "      <td>0.0</td>\n",
       "      <td>1.4</td>\n",
       "      <td>-41.8</td>\n",
       "      <td>services</td>\n",
       "      <td>married</td>\n",
       "      <td>basic.9y</td>\n",
       "      <td>yes</td>\n",
       "      <td>no</td>\n",
       "      <td>telephone</td>\n",
       "      <td>jun</td>\n",
       "      <td>fri</td>\n",
       "      <td>nonexistent</td>\n",
       "      <td>no</td>\n",
       "    </tr>\n",
       "    <tr>\n",
       "      <th>4</th>\n",
       "      <td>47.0</td>\n",
       "      <td>58.0</td>\n",
       "      <td>1.0</td>\n",
       "      <td>0.0</td>\n",
       "      <td>-0.1</td>\n",
       "      <td>-42.0</td>\n",
       "      <td>admin.</td>\n",
       "      <td>married</td>\n",
       "      <td>university.degree</td>\n",
       "      <td>yes</td>\n",
       "      <td>no</td>\n",
       "      <td>cellular</td>\n",
       "      <td>nov</td>\n",
       "      <td>mon</td>\n",
       "      <td>nonexistent</td>\n",
       "      <td>no</td>\n",
       "    </tr>\n",
       "  </tbody>\n",
       "</table>\n",
       "</div>"
      ],
      "text/plain": [
       "    age  duration  campaign  previous  emp.var.rate  cons.conf.idx  \\\n",
       "0  30.0     487.0       2.0       0.0          -1.8          -46.2   \n",
       "1  39.0     346.0       4.0       0.0           1.1          -36.4   \n",
       "2  25.0     227.0       1.0       0.0           1.4          -41.8   \n",
       "3  38.0      17.0       3.0       0.0           1.4          -41.8   \n",
       "4  47.0      58.0       1.0       0.0          -0.1          -42.0   \n",
       "\n",
       "           job  marital          education housing loan    contact month  \\\n",
       "0  blue-collar  married           basic.9y     yes   no   cellular   may   \n",
       "1     services   single        high.school      no   no  telephone   may   \n",
       "2     services  married        high.school     yes   no  telephone   jun   \n",
       "3     services  married           basic.9y     yes   no  telephone   jun   \n",
       "4       admin.  married  university.degree     yes   no   cellular   nov   \n",
       "\n",
       "  day_of_week     poutcome   y  \n",
       "0         fri  nonexistent  no  \n",
       "1         fri  nonexistent  no  \n",
       "2         wed  nonexistent  no  \n",
       "3         fri  nonexistent  no  \n",
       "4         mon  nonexistent  no  "
      ]
     },
     "execution_count": 18,
     "metadata": {},
     "output_type": "execute_result"
    }
   ],
   "source": [
    "data_final.head()"
   ]
  },
  {
   "cell_type": "markdown",
   "metadata": {},
   "source": [
    "### EDA"
   ]
  },
  {
   "cell_type": "code",
   "execution_count": 19,
   "metadata": {},
   "outputs": [
    {
     "data": {
      "image/png": "[encoded data removed]",
      "text/plain": [
       "<Figure size 432x288 with 1 Axes>"
      ]
     },
     "metadata": {
      "needs_background": "light"
     },
     "output_type": "display_data"
    },
    {
     "data": {
      "image/png": "[encoded data removed]",
      "text/plain": [
       "<Figure size 432x288 with 1 Axes>"
      ]
     },
     "metadata": {
      "needs_background": "light"
     },
     "output_type": "display_data"
    },
    {
     "data": {
      "image/png": "[encoded data removed]",
      "text/plain": [
       "<Figure size 432x288 with 1 Axes>"
      ]
     },
     "metadata": {
      "needs_background": "light"
     },
     "output_type": "display_data"
    },
    {
     "data": {
      "image/png": "[encoded data removed]",
      "text/plain": [
       "<Figure size 432x288 with 1 Axes>"
      ]
     },
     "metadata": {
      "needs_background": "light"
     },
     "output_type": "display_data"
    },
    {
     "data": {
      "image/png": "[encoded data removed]",
      "text/plain": [
       "<Figure size 432x288 with 1 Axes>"
      ]
     },
     "metadata": {
      "needs_background": "light"
     },
     "output_type": "display_data"
    },
    {
     "data": {
      "image/png": "[encoded data removed]",
      "text/plain": [
       "<Figure size 432x288 with 1 Axes>"
      ]
     },
     "metadata": {
      "needs_background": "light"
     },
     "output_type": "display_data"
    },
    {
     "data": {
      "image/png": "[encoded data removed]",
      "text/plain": [
       "<Figure size 432x288 with 1 Axes>"
      ]
     },
     "metadata": {
      "needs_background": "light"
     },
     "output_type": "display_data"
    },
    {
     "data": {
      "image/png": "[encoded data removed]",
      "text/plain": [
       "<Figure size 432x288 with 1 Axes>"
      ]
     },
     "metadata": {
      "needs_background": "light"
     },
     "output_type": "display_data"
    },
    {
     "data": {
      "image/png": "[encoded data removed]",
      "text/plain": [
       "<Figure size 432x288 with 1 Axes>"
      ]
     },
     "metadata": {
      "needs_background": "light"
     },
     "output_type": "display_data"
    },
    {
     "data": {
      "image/png": "[encoded data removed]",
      "text/plain": [
       "<Figure size 432x288 with 1 Axes>"
      ]
     },
     "metadata": {
      "needs_background": "light"
     },
     "output_type": "display_data"
    },
    {
     "data": {
      "image/png": "[encoded data removed]",
      "text/plain": [
       "<Figure size 432x288 with 1 Axes>"
      ]
     },
     "metadata": {
      "needs_background": "light"
     },
     "output_type": "display_data"
    },
    {
     "data": {
      "image/png": "[encoded data removed]",
      "text/plain": [
       "<Figure size 432x288 with 1 Axes>"
      ]
     },
     "metadata": {
      "needs_background": "light"
     },
     "output_type": "display_data"
    },
    {
     "data": {
      "image/png": "[encoded data removed]",
      "text/plain": [
       "<Figure size 432x288 with 1 Axes>"
      ]
     },
     "metadata": {
      "needs_background": "light"
     },
     "output_type": "display_data"
    },
    {
     "data": {
      "image/png": "[encoded data removed]",
      "text/plain": [
       "<Figure size 432x288 with 1 Axes>"
      ]
     },
     "metadata": {
      "needs_background": "light"
     },
     "output_type": "display_data"
    },
    {
     "data": {
      "image/png": "[encoded data removed]",
      "text/plain": [
       "<Figure size 432x288 with 1 Axes>"
      ]
     },
     "metadata": {
      "needs_background": "light"
     },
     "output_type": "display_data"
    },
    {
     "data": {
      "image/png": "[encoded data removed]",
      "text/plain": [
       "<Figure size 432x288 with 1 Axes>"
      ]
     },
     "metadata": {
      "needs_background": "light"
     },
     "output_type": "display_data"
    }
   ],
   "source": [
    "for i in data_final.columns:\n",
    "    data_final[i].hist()\n",
    "    plt.xlabel(str(i))\n",
    "    plt.show()"
   ]
  },
  {
   "cell_type": "code",
   "execution_count": 20,
   "metadata": {},
   "outputs": [
    {
     "data": {
      "text/plain": [
       "no     0.890507\n",
       "yes    0.109493\n",
       "Name: y, dtype: float64"
      ]
     },
     "execution_count": 20,
     "metadata": {},
     "output_type": "execute_result"
    }
   ],
   "source": [
    "data_final.y.value_counts(normalize=True)"
   ]
  },
  {
   "cell_type": "code",
   "execution_count": 21,
   "metadata": {},
   "outputs": [
    {
     "data": {
      "image/png": "[encoded data removed]",
      "text/plain": [
       "<Figure size 432x288 with 1 Axes>"
      ]
     },
     "metadata": {
      "needs_background": "light"
     },
     "output_type": "display_data"
    }
   ],
   "source": [
    "sns.barplot(x='y',y='age',data=data_final)\n",
    "plt.show()"
   ]
  },
  {
   "cell_type": "code",
   "execution_count": 22,
   "metadata": {},
   "outputs": [
    {
     "data": {
      "image/png": "[encoded data removed]",
      "text/plain": [
       "<Figure size 432x288 with 1 Axes>"
      ]
     },
     "metadata": {
      "needs_background": "light"
     },
     "output_type": "display_data"
    }
   ],
   "source": [
    "sns.barplot(x='y',y='duration',data=data_final)\n",
    "plt.show()"
   ]
  },
  {
   "cell_type": "code",
   "execution_count": 23,
   "metadata": {},
   "outputs": [
    {
     "data": {
      "image/png": "[encoded data removed]",
      "text/plain": [
       "<Figure size 432x288 with 1 Axes>"
      ]
     },
     "metadata": {
      "needs_background": "light"
     },
     "output_type": "display_data"
    }
   ],
   "source": [
    "sns.barplot(x='y',y='campaign',data=data_final)\n",
    "plt.show()"
   ]
  },
  {
   "cell_type": "code",
   "execution_count": 24,
   "metadata": {},
   "outputs": [],
   "source": [
    "# Insights from above plots\n",
    "\n",
    "# --> Usually calls duration that exceed 250 seconds consider client approval (note: if duration =0 then y = No).\n",
    "# --> Average age for clients is 39.\n",
    "# --> Most clients get contact 2 times in each campaign. \n",
    "# --> Most of the clients that are yes in campaign do not have loans\n",
    "# --> More than 70% clients have a direct call from the bank.\n",
    "# -->  90% of clients would be subscribed (Yes)."
   ]
  },
  {
   "cell_type": "code",
   "execution_count": 25,
   "metadata": {},
   "outputs": [],
   "source": [
    "data_final = pd.get_dummies(data_final, columns = cat_var.columns,  drop_first=True)"
   ]
  },
  {
   "cell_type": "code",
   "execution_count": 26,
   "metadata": {},
   "outputs": [
    {
     "data": {
      "text/html": [
       "<div>\n",
       "<style scoped>\n",
       "    .dataframe tbody tr th:only-of-type {\n",
       "        vertical-align: middle;\n",
       "    }\n",
       "\n",
       "    .dataframe tbody tr th {\n",
       "        vertical-align: top;\n",
       "    }\n",
       "\n",
       "    .dataframe thead th {\n",
       "        text-align: right;\n",
       "    }\n",
       "</style>\n",
       "<table border=\"1\" class=\"dataframe\">\n",
       "  <thead>\n",
       "    <tr style=\"text-align: right;\">\n",
       "      <th></th>\n",
       "      <th>age</th>\n",
       "      <th>duration</th>\n",
       "      <th>campaign</th>\n",
       "      <th>previous</th>\n",
       "      <th>emp.var.rate</th>\n",
       "      <th>cons.conf.idx</th>\n",
       "      <th>job_blue-collar</th>\n",
       "      <th>job_entrepreneur</th>\n",
       "      <th>job_housemaid</th>\n",
       "      <th>job_management</th>\n",
       "      <th>...</th>\n",
       "      <th>month_nov</th>\n",
       "      <th>month_oct</th>\n",
       "      <th>month_sep</th>\n",
       "      <th>day_of_week_mon</th>\n",
       "      <th>day_of_week_thu</th>\n",
       "      <th>day_of_week_tue</th>\n",
       "      <th>day_of_week_wed</th>\n",
       "      <th>poutcome_nonexistent</th>\n",
       "      <th>poutcome_success</th>\n",
       "      <th>y_yes</th>\n",
       "    </tr>\n",
       "  </thead>\n",
       "  <tbody>\n",
       "    <tr>\n",
       "      <th>0</th>\n",
       "      <td>30.0</td>\n",
       "      <td>487.0</td>\n",
       "      <td>2.0</td>\n",
       "      <td>0.0</td>\n",
       "      <td>-1.8</td>\n",
       "      <td>-46.2</td>\n",
       "      <td>1</td>\n",
       "      <td>0</td>\n",
       "      <td>0</td>\n",
       "      <td>0</td>\n",
       "      <td>...</td>\n",
       "      <td>0</td>\n",
       "      <td>0</td>\n",
       "      <td>0</td>\n",
       "      <td>0</td>\n",
       "      <td>0</td>\n",
       "      <td>0</td>\n",
       "      <td>0</td>\n",
       "      <td>1</td>\n",
       "      <td>0</td>\n",
       "      <td>0</td>\n",
       "    </tr>\n",
       "    <tr>\n",
       "      <th>1</th>\n",
       "      <td>39.0</td>\n",
       "      <td>346.0</td>\n",
       "      <td>4.0</td>\n",
       "      <td>0.0</td>\n",
       "      <td>1.1</td>\n",
       "      <td>-36.4</td>\n",
       "      <td>0</td>\n",
       "      <td>0</td>\n",
       "      <td>0</td>\n",
       "      <td>0</td>\n",
       "      <td>...</td>\n",
       "      <td>0</td>\n",
       "      <td>0</td>\n",
       "      <td>0</td>\n",
       "      <td>0</td>\n",
       "      <td>0</td>\n",
       "      <td>0</td>\n",
       "      <td>0</td>\n",
       "      <td>1</td>\n",
       "      <td>0</td>\n",
       "      <td>0</td>\n",
       "    </tr>\n",
       "    <tr>\n",
       "      <th>2</th>\n",
       "      <td>25.0</td>\n",
       "      <td>227.0</td>\n",
       "      <td>1.0</td>\n",
       "      <td>0.0</td>\n",
       "      <td>1.4</td>\n",
       "      <td>-41.8</td>\n",
       "      <td>0</td>\n",
       "      <td>0</td>\n",
       "      <td>0</td>\n",
       "      <td>0</td>\n",
       "      <td>...</td>\n",
       "      <td>0</td>\n",
       "      <td>0</td>\n",
       "      <td>0</td>\n",
       "      <td>0</td>\n",
       "      <td>0</td>\n",
       "      <td>0</td>\n",
       "      <td>1</td>\n",
       "      <td>1</td>\n",
       "      <td>0</td>\n",
       "      <td>0</td>\n",
       "    </tr>\n",
       "    <tr>\n",
       "      <th>3</th>\n",
       "      <td>38.0</td>\n",
       "      <td>17.0</td>\n",
       "      <td>3.0</td>\n",
       "      <td>0.0</td>\n",
       "      <td>1.4</td>\n",
       "      <td>-41.8</td>\n",
       "      <td>0</td>\n",
       "      <td>0</td>\n",
       "      <td>0</td>\n",
       "      <td>0</td>\n",
       "      <td>...</td>\n",
       "      <td>0</td>\n",
       "      <td>0</td>\n",
       "      <td>0</td>\n",
       "      <td>0</td>\n",
       "      <td>0</td>\n",
       "      <td>0</td>\n",
       "      <td>0</td>\n",
       "      <td>1</td>\n",
       "      <td>0</td>\n",
       "      <td>0</td>\n",
       "    </tr>\n",
       "    <tr>\n",
       "      <th>4</th>\n",
       "      <td>47.0</td>\n",
       "      <td>58.0</td>\n",
       "      <td>1.0</td>\n",
       "      <td>0.0</td>\n",
       "      <td>-0.1</td>\n",
       "      <td>-42.0</td>\n",
       "      <td>0</td>\n",
       "      <td>0</td>\n",
       "      <td>0</td>\n",
       "      <td>0</td>\n",
       "      <td>...</td>\n",
       "      <td>1</td>\n",
       "      <td>0</td>\n",
       "      <td>0</td>\n",
       "      <td>1</td>\n",
       "      <td>0</td>\n",
       "      <td>0</td>\n",
       "      <td>0</td>\n",
       "      <td>1</td>\n",
       "      <td>0</td>\n",
       "      <td>0</td>\n",
       "    </tr>\n",
       "  </tbody>\n",
       "</table>\n",
       "<p>5 rows × 43 columns</p>\n",
       "</div>"
      ],
      "text/plain": [
       "    age  duration  campaign  previous  emp.var.rate  cons.conf.idx  \\\n",
       "0  30.0     487.0       2.0       0.0          -1.8          -46.2   \n",
       "1  39.0     346.0       4.0       0.0           1.1          -36.4   \n",
       "2  25.0     227.0       1.0       0.0           1.4          -41.8   \n",
       "3  38.0      17.0       3.0       0.0           1.4          -41.8   \n",
       "4  47.0      58.0       1.0       0.0          -0.1          -42.0   \n",
       "\n",
       "   job_blue-collar  job_entrepreneur  job_housemaid  job_management  ...  \\\n",
       "0                1                 0              0               0  ...   \n",
       "1                0                 0              0               0  ...   \n",
       "2                0                 0              0               0  ...   \n",
       "3                0                 0              0               0  ...   \n",
       "4                0                 0              0               0  ...   \n",
       "\n",
       "   month_nov  month_oct  month_sep  day_of_week_mon  day_of_week_thu  \\\n",
       "0          0          0          0                0                0   \n",
       "1          0          0          0                0                0   \n",
       "2          0          0          0                0                0   \n",
       "3          0          0          0                0                0   \n",
       "4          1          0          0                1                0   \n",
       "\n",
       "   day_of_week_tue  day_of_week_wed  poutcome_nonexistent  poutcome_success  \\\n",
       "0                0                0                     1                 0   \n",
       "1                0                0                     1                 0   \n",
       "2                0                1                     1                 0   \n",
       "3                0                0                     1                 0   \n",
       "4                0                0                     1                 0   \n",
       "\n",
       "   y_yes  \n",
       "0      0  \n",
       "1      0  \n",
       "2      0  \n",
       "3      0  \n",
       "4      0  \n",
       "\n",
       "[5 rows x 43 columns]"
      ]
     },
     "execution_count": 26,
     "metadata": {},
     "output_type": "execute_result"
    }
   ],
   "source": [
    "data_final.head()"
   ]
  },
  {
   "cell_type": "code",
   "execution_count": 27,
   "metadata": {},
   "outputs": [
    {
     "data": {
      "text/plain": [
       "Index(['age', 'duration', 'campaign', 'previous', 'emp.var.rate',\n",
       "       'cons.conf.idx', 'job_blue-collar', 'job_entrepreneur', 'job_housemaid',\n",
       "       'job_management', 'job_retired', 'job_self-employed', 'job_services',\n",
       "       'job_student', 'job_technician', 'job_unemployed', 'marital_married',\n",
       "       'marital_single', 'education_basic.6y', 'education_basic.9y',\n",
       "       'education_high.school', 'education_illiterate',\n",
       "       'education_professional.course', 'education_university.degree',\n",
       "       'housing_yes', 'loan_yes', 'contact_telephone', 'month_aug',\n",
       "       'month_dec', 'month_jul', 'month_jun', 'month_mar', 'month_may',\n",
       "       'month_nov', 'month_oct', 'month_sep', 'day_of_week_mon',\n",
       "       'day_of_week_thu', 'day_of_week_tue', 'day_of_week_wed',\n",
       "       'poutcome_nonexistent', 'poutcome_success', 'y_yes'],\n",
       "      dtype='object')"
      ]
     },
     "execution_count": 27,
     "metadata": {},
     "output_type": "execute_result"
    }
   ],
   "source": [
    "data_final.columns"
   ]
  },
  {
   "cell_type": "code",
   "execution_count": 28,
   "metadata": {},
   "outputs": [],
   "source": [
    "data_final.columns = [i.replace('.', '_').replace('-', '_') for i in data_final.columns]"
   ]
  },
  {
   "cell_type": "code",
   "execution_count": 29,
   "metadata": {},
   "outputs": [
    {
     "data": {
      "text/plain": [
       "Index(['age', 'duration', 'campaign', 'previous', 'emp_var_rate',\n",
       "       'cons_conf_idx', 'job_blue_collar', 'job_entrepreneur', 'job_housemaid',\n",
       "       'job_management', 'job_retired', 'job_self_employed', 'job_services',\n",
       "       'job_student', 'job_technician', 'job_unemployed', 'marital_married',\n",
       "       'marital_single', 'education_basic_6y', 'education_basic_9y',\n",
       "       'education_high_school', 'education_illiterate',\n",
       "       'education_professional_course', 'education_university_degree',\n",
       "       'housing_yes', 'loan_yes', 'contact_telephone', 'month_aug',\n",
       "       'month_dec', 'month_jul', 'month_jun', 'month_mar', 'month_may',\n",
       "       'month_nov', 'month_oct', 'month_sep', 'day_of_week_mon',\n",
       "       'day_of_week_thu', 'day_of_week_tue', 'day_of_week_wed',\n",
       "       'poutcome_nonexistent', 'poutcome_success', 'y_yes'],\n",
       "      dtype='object')"
      ]
     },
     "execution_count": 29,
     "metadata": {},
     "output_type": "execute_result"
    }
   ],
   "source": [
    "data_final.columns"
   ]
  },
  {
   "cell_type": "markdown",
   "metadata": {},
   "source": [
    "## Splitting Data"
   ]
  },
  {
   "cell_type": "code",
   "execution_count": 30,
   "metadata": {},
   "outputs": [],
   "source": [
    "X = data_final[data_final.columns.difference(['y_yes'])]\n",
    "y = data_final.y_yes"
   ]
  },
  {
   "cell_type": "code",
   "execution_count": 31,
   "metadata": {},
   "outputs": [],
   "source": [
    "x_train, x_test, y_train, y_test = train_test_split(X, y, test_size=0.3, random_state=123)"
   ]
  },
  {
   "cell_type": "markdown",
   "metadata": {},
   "source": [
    "### Apply SMOTE"
   ]
  },
  {
   "cell_type": "code",
   "execution_count": 32,
   "metadata": {},
   "outputs": [],
   "source": [
    "from imblearn.over_sampling import SMOTE"
   ]
  },
  {
   "cell_type": "code",
   "execution_count": 33,
   "metadata": {},
   "outputs": [],
   "source": [
    "smote = SMOTE(random_state=123)"
   ]
  },
  {
   "cell_type": "code",
   "execution_count": 34,
   "metadata": {},
   "outputs": [],
   "source": [
    "x_train_resampled, y_train_resampled = smote.fit_resample(x_train,y_train)"
   ]
  },
  {
   "cell_type": "code",
   "execution_count": 36,
   "metadata": {},
   "outputs": [
    {
     "name": "stdout",
     "output_type": "stream",
     "text": [
      "Class distribution before SMOTE:  {0: 2576, 1: 307}\n",
      "Class distribution before SMOTE:  {0: 2576, 1: 2576}\n"
     ]
    }
   ],
   "source": [
    "# check class distribution before and after SMOTE\n",
    "print('Class distribution before SMOTE: ',{cls: sum(y_train == cls) for cls in set(y_train)})\n",
    "print('Class distribution before SMOTE: ',{cls: sum(y_train_resampled == cls) for cls in set(y_train_resampled)})"
   ]
  },
  {
   "cell_type": "markdown",
   "metadata": {},
   "source": [
    "-------------------------------------------------------------------------------------------------------------------------------"
   ]
  },
  {
   "cell_type": "markdown",
   "metadata": {},
   "source": [
    "##### Standarization"
   ]
  },
  {
   "cell_type": "code",
   "execution_count": 37,
   "metadata": {},
   "outputs": [],
   "source": [
    "from sklearn.preprocessing import StandardScaler\n",
    "sc = StandardScaler()\n",
    "x_train_sc = sc.fit_transform(x_train_resampled)\n",
    "x_test_sc = sc.transform(x_test)"
   ]
  },
  {
   "cell_type": "code",
   "execution_count": 38,
   "metadata": {},
   "outputs": [
    {
     "name": "stdout",
     "output_type": "stream",
     "text": [
      "[0 0 0 ... 1 0 0]\n"
     ]
    }
   ],
   "source": [
    "y_train=np.asarray(y_train_resampled)\n",
    "y_test=np.asarray(y_test)\n",
    "print(y_test)"
   ]
  },
  {
   "cell_type": "markdown",
   "metadata": {},
   "source": [
    "### ANN"
   ]
  },
  {
   "cell_type": "code",
   "execution_count": 39,
   "metadata": {},
   "outputs": [
    {
     "data": {
      "text/plain": [
       "(5152, 42)"
      ]
     },
     "execution_count": 39,
     "metadata": {},
     "output_type": "execute_result"
    }
   ],
   "source": [
    "x_train_sc.shape"
   ]
  },
  {
   "cell_type": "code",
   "execution_count": 40,
   "metadata": {},
   "outputs": [],
   "source": [
    "model = Sequential()"
   ]
  },
  {
   "cell_type": "code",
   "execution_count": 41,
   "metadata": {},
   "outputs": [],
   "source": [
    "model.add(layers.Dense(32,activation='relu',input_shape=(x_train_sc.shape[-1],)))\n",
    "model.add(layers.Dense(32,activation='relu'))\n",
    "model.add(layers.Dense(16,activation='relu'))\n",
    "model.add(layers.Dense(1,activation='sigmoid'))"
   ]
  },
  {
   "cell_type": "code",
   "execution_count": 42,
   "metadata": {},
   "outputs": [
    {
     "name": "stdout",
     "output_type": "stream",
     "text": [
      "Model: \"sequential\"\n",
      "_________________________________________________________________\n",
      " Layer (type)                Output Shape              Param #   \n",
      "=================================================================\n",
      " dense (Dense)               (None, 32)                1376      \n",
      "                                                                 \n",
      " dense_1 (Dense)             (None, 32)                1056      \n",
      "                                                                 \n",
      " dense_2 (Dense)             (None, 16)                528       \n",
      "                                                                 \n",
      " dense_3 (Dense)             (None, 1)                 17        \n",
      "                                                                 \n",
      "=================================================================\n",
      "Total params: 2,977\n",
      "Trainable params: 2,977\n",
      "Non-trainable params: 0\n",
      "_________________________________________________________________\n"
     ]
    }
   ],
   "source": [
    "model.summary()"
   ]
  },
  {
   "cell_type": "code",
   "execution_count": 43,
   "metadata": {},
   "outputs": [],
   "source": [
    "model.compile(optimizer='adam', loss='binary_crossentropy', metrics=['accuracy'])"
   ]
  },
  {
   "cell_type": "markdown",
   "metadata": {},
   "source": [
    "-------------------------------------------------------------------------------------------------------------------------------"
   ]
  },
  {
   "cell_type": "code",
   "execution_count": 44,
   "metadata": {},
   "outputs": [],
   "source": [
    "early_stopping=tf.keras.callbacks.EarlyStopping(monitor='val_loss',\n",
    "    min_delta=0.0001,\n",
    "    patience=5,\n",
    "    verbose=1,\n",
    "    mode='auto',\n",
    "    baseline=None,\n",
    "    restore_best_weights=False,\n",
    ")"
   ]
  },
  {
   "cell_type": "code",
   "execution_count": 45,
   "metadata": {},
   "outputs": [
    {
     "name": "stdout",
     "output_type": "stream",
     "text": [
      "Epoch 1/100\n",
      "202/202 [==============================] - 1s 3ms/step - loss: 0.3912 - accuracy: 0.8831 - val_loss: 0.4938 - val_accuracy: 0.8185\n",
      "Epoch 2/100\n",
      "202/202 [==============================] - 0s 2ms/step - loss: 0.3435 - accuracy: 0.8885 - val_loss: 0.2209 - val_accuracy: 0.9052\n",
      "Epoch 3/100\n",
      "202/202 [==============================] - 0s 2ms/step - loss: 0.2964 - accuracy: 0.8935 - val_loss: 0.2404 - val_accuracy: 0.8913\n",
      "Epoch 4/100\n",
      "202/202 [==============================] - 0s 2ms/step - loss: 0.2726 - accuracy: 0.8969 - val_loss: 0.2185 - val_accuracy: 0.9075\n",
      "Epoch 5/100\n",
      "202/202 [==============================] - 0s 2ms/step - loss: 0.2821 - accuracy: 0.8930 - val_loss: 0.2347 - val_accuracy: 0.8960\n",
      "Epoch 6/100\n",
      "202/202 [==============================] - 0s 2ms/step - loss: 0.2737 - accuracy: 0.8954 - val_loss: 0.2824 - val_accuracy: 0.8879\n",
      "Epoch 7/100\n",
      "202/202 [==============================] - 0s 2ms/step - loss: 0.2429 - accuracy: 0.9054 - val_loss: 0.2102 - val_accuracy: 0.9064\n",
      "Epoch 8/100\n",
      "202/202 [==============================] - 0s 2ms/step - loss: 0.2690 - accuracy: 0.9073 - val_loss: 0.3361 - val_accuracy: 0.8855\n",
      "Epoch 9/100\n",
      "202/202 [==============================] - 0s 2ms/step - loss: 0.2466 - accuracy: 0.9034 - val_loss: 0.2333 - val_accuracy: 0.8971\n",
      "Epoch 10/100\n",
      "202/202 [==============================] - 0s 2ms/step - loss: 0.2280 - accuracy: 0.9073 - val_loss: 0.3926 - val_accuracy: 0.8855\n",
      "Epoch 11/100\n",
      "202/202 [==============================] - 0s 2ms/step - loss: 0.2235 - accuracy: 0.9083 - val_loss: 0.2143 - val_accuracy: 0.9052\n",
      "Epoch 12/100\n",
      "202/202 [==============================] - 0s 2ms/step - loss: 0.2264 - accuracy: 0.9083 - val_loss: 0.2765 - val_accuracy: 0.8925\n",
      "Epoch 12: early stopping\n"
     ]
    }
   ],
   "source": [
    "model_history=model.fit(x_train,y_train,validation_split=0.3,batch_size=10,epochs=100,callbacks=[early_stopping])"
   ]
  },
  {
   "cell_type": "code",
   "execution_count": 46,
   "metadata": {},
   "outputs": [
    {
     "data": {
      "text/plain": [
       "dict_keys(['loss', 'accuracy', 'val_loss', 'val_accuracy'])"
      ]
     },
     "execution_count": 46,
     "metadata": {},
     "output_type": "execute_result"
    }
   ],
   "source": [
    "model_history.history.keys()"
   ]
  },
  {
   "cell_type": "code",
   "execution_count": 47,
   "metadata": {},
   "outputs": [
    {
     "data": {
      "image/png": "[encoded data removed]",
      "text/plain": [
       "<Figure size 432x288 with 1 Axes>"
      ]
     },
     "metadata": {
      "needs_background": "light"
     },
     "output_type": "display_data"
    }
   ],
   "source": [
    "plt.plot(model_history.history['accuracy'])\n",
    "plt.plot(model_history.history['val_accuracy'])\n",
    "plt.title('Model Accuracy')\n",
    "plt.ylabel('accuracy')\n",
    "plt.xlabel('epochs')\n",
    "plt.legend(['train','test'], loc='upper left')\n",
    "plt.show()"
   ]
  },
  {
   "cell_type": "code",
   "execution_count": 48,
   "metadata": {},
   "outputs": [
    {
     "data": {
      "image/png": "[encoded data removed]",
      "text/plain": [
       "<Figure size 432x288 with 1 Axes>"
      ]
     },
     "metadata": {
      "needs_background": "light"
     },
     "output_type": "display_data"
    }
   ],
   "source": [
    "plt.plot(model_history.history['loss'])\n",
    "plt.plot(model_history.history['val_loss'])\n",
    "plt.title('Model Loss')\n",
    "plt.ylabel('accuracy')\n",
    "plt.xlabel('epochs')\n",
    "plt.legend(['train','test'], loc='upper left')\n",
    "plt.show()"
   ]
  },
  {
   "cell_type": "code",
   "execution_count": 49,
   "metadata": {},
   "outputs": [
    {
     "name": "stdout",
     "output_type": "stream",
     "text": [
      "39/39 [==============================] - 0s 1ms/step\n"
     ]
    }
   ],
   "source": [
    "y_pred=model.predict(x_test)"
   ]
  },
  {
   "cell_type": "code",
   "execution_count": 50,
   "metadata": {},
   "outputs": [
    {
     "data": {
      "text/plain": [
       "array([[False],\n",
       "       [False],\n",
       "       [False],\n",
       "       ...,\n",
       "       [False],\n",
       "       [False],\n",
       "       [False]])"
      ]
     },
     "execution_count": 50,
     "metadata": {},
     "output_type": "execute_result"
    }
   ],
   "source": [
    "y_pred=(y_pred>=0.5)\n",
    "y_pred"
   ]
  },
  {
   "cell_type": "code",
   "execution_count": 51,
   "metadata": {},
   "outputs": [
    {
     "name": "stdout",
     "output_type": "stream",
     "text": [
      "              precision    recall  f1-score   support\n",
      "\n",
      "           0       0.89      1.00      0.94      1092\n",
      "           1       0.69      0.08      0.14       144\n",
      "\n",
      "    accuracy                           0.89      1236\n",
      "   macro avg       0.79      0.54      0.54      1236\n",
      "weighted avg       0.87      0.89      0.85      1236\n",
      "\n"
     ]
    }
   ],
   "source": [
    "print(classification_report(y_test,y_pred))"
   ]
  },
  {
   "cell_type": "code",
   "execution_count": 52,
   "metadata": {},
   "outputs": [
    {
     "data": {
      "text/plain": [
       "[array([[ 2.54010916e-01, -3.72930877e-02,  1.50461897e-01, ...,\n",
       "          5.14735207e-02, -1.75117746e-01, -1.32094204e-01],\n",
       "        [ 9.76577923e-02, -1.28970563e-01, -7.78658018e-02, ...,\n",
       "         -2.13682633e-02,  3.01722884e-02, -1.89818740e-01],\n",
       "        [-2.44497845e-04,  8.76089409e-02, -1.80329666e-01, ...,\n",
       "         -1.94332793e-01,  7.30658770e-02, -9.71264690e-02],\n",
       "        ...,\n",
       "        [ 7.43837794e-03, -1.77627146e-01, -2.31618285e-01, ...,\n",
       "          3.68163854e-01, -4.12616134e-02, -9.60930958e-02],\n",
       "        [ 3.01334620e-01,  6.54319227e-01,  1.53498963e-01, ...,\n",
       "         -4.44036782e-01, -1.80303186e-01,  3.29740465e-01],\n",
       "        [ 3.52632284e-01,  2.28429157e-02,  1.67990744e-01, ...,\n",
       "          6.18001632e-02,  1.05235666e-01,  2.08481357e-01]], dtype=float32),\n",
       " array([-0.05462505, -0.02780659, -0.00082678, -0.00047677,  0.04338443,\n",
       "         0.        ,  0.0180851 , -0.06756514, -0.04368023, -0.0449924 ,\n",
       "        -0.04912276, -0.05549265,  0.01509855, -0.00859283, -0.02008474,\n",
       "        -0.00470496,  0.        , -0.0281883 , -0.05354057,  0.        ,\n",
       "         0.02853731,  0.06224971,  0.02786289,  0.04080932, -0.05968528,\n",
       "        -0.04740975, -0.00974193,  0.03180512,  0.04301409,  0.13905141,\n",
       "         0.        , -0.08210024], dtype=float32),\n",
       " array([[ 0.09110603, -0.19256783,  0.02290002, ..., -0.03357336,\n",
       "          0.24723648,  0.09167409],\n",
       "        [ 0.30349573, -0.17721364, -0.23023053, ...,  0.15548876,\n",
       "          0.1072291 , -0.12749666],\n",
       "        [-0.05620473,  0.02531818,  0.22366908, ...,  0.22982475,\n",
       "          0.1892798 , -0.12956025],\n",
       "        ...,\n",
       "        [ 0.23444974, -0.16315748,  0.10186289, ..., -0.11545275,\n",
       "          0.07198439, -0.28994712],\n",
       "        [ 0.15079251, -0.19755259,  0.13361183, ...,  0.07165989,\n",
       "          0.16411647, -0.28820753],\n",
       "        [ 0.27638102,  0.12038189,  0.18869017, ..., -0.13068664,\n",
       "          0.26279852,  0.01094839]], dtype=float32),\n",
       " array([-0.00699624,  0.        ,  0.03954975, -0.03501326,  0.        ,\n",
       "         0.01567993,  0.        , -0.0089721 , -0.01080024,  0.04477464,\n",
       "         0.        ,  0.        , -0.01438279,  0.        ,  0.00808933,\n",
       "         0.01828476,  0.        , -0.02780578, -0.02057026, -0.00533416,\n",
       "        -0.01698314, -0.02439921,  0.        ,  0.        , -0.02979353,\n",
       "        -0.00948042, -0.00500983, -0.04371511,  0.        ,  0.        ,\n",
       "        -0.05357948,  0.        ], dtype=float32),\n",
       " array([[ 0.10825918,  0.3102083 , -0.22664957,  0.08765616, -0.12335733,\n",
       "         -0.21549056,  0.37007934, -0.07187584,  0.31008643,  0.00896529,\n",
       "          0.23906817,  0.00823125, -0.20326346, -0.24341322,  0.23556143,\n",
       "          0.29017732],\n",
       "        [ 0.12605491,  0.20597592,  0.03506237,  0.20412537, -0.15376578,\n",
       "          0.21697423,  0.01373026,  0.22826031, -0.16219144, -0.17335933,\n",
       "          0.22261563, -0.1039252 , -0.12441345,  0.25905487,  0.2518452 ,\n",
       "         -0.13020232],\n",
       "        [ 0.07008433,  0.00868482,  0.31038994, -0.15813042, -0.0240007 ,\n",
       "         -0.06232272, -0.12521927, -0.17468558,  0.30303025, -0.04325947,\n",
       "         -0.25665057,  0.23960146, -0.34902352, -0.3796843 , -0.04587474,\n",
       "          0.28837553],\n",
       "        [-0.24261247, -0.18647821,  0.16948076,  0.3154584 , -0.27357292,\n",
       "         -0.29602164,  0.12839104, -0.34580368,  0.2649888 , -0.23282778,\n",
       "         -0.05176541, -0.04938975, -0.0337871 , -0.16580807, -0.05976142,\n",
       "          0.21626197],\n",
       "        [ 0.16182199, -0.33441752, -0.072229  ,  0.27593252,  0.12808588,\n",
       "         -0.2447438 ,  0.21413681,  0.33237872,  0.23342702, -0.25530884,\n",
       "          0.19995889, -0.30740047,  0.03373224,  0.07434806, -0.28556025,\n",
       "          0.10394499],\n",
       "        [ 0.17027125, -0.25622618, -0.20111136, -0.10352894, -0.2678257 ,\n",
       "         -0.33736974,  0.33871666,  0.13411108,  0.16636328,  0.05980063,\n",
       "         -0.10114943,  0.16639264, -0.20852508,  0.1190268 ,  0.29339194,\n",
       "          0.00818463],\n",
       "        [-0.04143399, -0.01660687,  0.13316464,  0.22881475,  0.121793  ,\n",
       "          0.17427865,  0.0131312 ,  0.21958885,  0.14216167, -0.19703272,\n",
       "          0.31084338, -0.06504515, -0.31630865,  0.12728694,  0.19091108,\n",
       "         -0.12409499],\n",
       "        [-0.14180282, -0.0410748 ,  0.04768706,  0.06198454,  0.19400397,\n",
       "         -0.21252397,  0.12920387,  0.04690614, -0.31243753, -0.2956362 ,\n",
       "          0.24506766,  0.08473495,  0.23419729,  0.08295723, -0.28261948,\n",
       "         -0.3526412 ],\n",
       "        [-0.3165779 ,  0.3271225 ,  0.33480936,  0.26858407, -0.07149261,\n",
       "         -0.14833988,  0.17906865, -0.24992563,  0.30412117,  0.33016855,\n",
       "          0.3038834 ,  0.14888068, -0.18003203, -0.3400852 ,  0.11111692,\n",
       "          0.09593429],\n",
       "        [-0.06038236,  0.13391519,  0.22177783, -0.36695477, -0.05513525,\n",
       "         -0.27743503,  0.19872953, -0.09273005,  0.29259554, -0.01084881,\n",
       "         -0.12051201,  0.16457152,  0.10735047,  0.25283757, -0.14626433,\n",
       "          0.04895167],\n",
       "        [-0.20734209,  0.06288749,  0.07164982,  0.09960482, -0.06069407,\n",
       "          0.00824031, -0.13534196, -0.05844292, -0.08094135, -0.10812007,\n",
       "         -0.26881766,  0.23262826, -0.32904956,  0.03960294,  0.08872011,\n",
       "         -0.17376083],\n",
       "        [ 0.15282491,  0.30507305,  0.25898823,  0.25951287, -0.0422298 ,\n",
       "          0.26981452, -0.212798  , -0.02480569, -0.07383606,  0.17598519,\n",
       "          0.23119238,  0.07951695, -0.26724187,  0.14065415,  0.09540319,\n",
       "          0.0207724 ],\n",
       "        [-0.17043687, -0.01484851, -0.1628022 ,  0.29617137,  0.2090176 ,\n",
       "          0.2783961 , -0.1247349 ,  0.25313357, -0.2117786 ,  0.0298253 ,\n",
       "          0.19043803,  0.02826689,  0.08640847, -0.21522729,  0.07968373,\n",
       "          0.25574028],\n",
       "        [ 0.29248175,  0.09692073,  0.3394321 , -0.23822612,  0.10874477,\n",
       "         -0.33615634, -0.18272488, -0.26775226,  0.12610936,  0.06748006,\n",
       "         -0.25818333,  0.00363669,  0.0982244 ,  0.03727576, -0.1669537 ,\n",
       "         -0.10320845],\n",
       "        [ 0.10363006,  0.3128286 ,  0.17501631,  0.24424295,  0.09656122,\n",
       "          0.1533402 , -0.02334076, -0.10654758,  0.1345163 , -0.26206803,\n",
       "         -0.24080174,  0.19968021,  0.31312928, -0.46638298, -0.22523525,\n",
       "         -0.21565562],\n",
       "        [-0.2561483 , -0.13546556, -0.01509864, -0.30834362, -0.30082095,\n",
       "          0.20472786, -0.0348222 ,  0.28102127,  0.30933803,  0.1546536 ,\n",
       "         -0.30179983, -0.0521811 , -0.01607776, -0.2839937 ,  0.0733548 ,\n",
       "          0.2456059 ],\n",
       "        [-0.11081603,  0.22707096,  0.09821379,  0.22976562, -0.33454517,\n",
       "          0.22304526, -0.20738837, -0.24774289, -0.25833243,  0.09389678,\n",
       "         -0.01818475, -0.31524956, -0.2064243 ,  0.12590453, -0.19148366,\n",
       "          0.32697955],\n",
       "        [-0.04139555, -0.01267712,  0.27722216,  0.03297957,  0.24853078,\n",
       "          0.32672003, -0.17286952,  0.20553285, -0.0021013 , -0.0171567 ,\n",
       "         -0.01377471, -0.12724964, -0.12724386,  0.3202778 ,  0.09764019,\n",
       "         -0.14583114],\n",
       "        [-0.11708951, -0.07185899, -0.22393781, -0.02250075, -0.04583561,\n",
       "          0.2944816 ,  0.03108388,  0.04593703,  0.02107029,  0.11551564,\n",
       "         -0.0982145 , -0.1472578 , -0.1270998 , -0.10467482,  0.2158682 ,\n",
       "         -0.06485544],\n",
       "        [ 0.28924784, -0.17130646,  0.04607977, -0.18461634,  0.16773072,\n",
       "          0.09301884, -0.07128356,  0.19400117, -0.1294593 ,  0.2981307 ,\n",
       "          0.00509498,  0.32054883,  0.21060637,  0.22554651, -0.09612664,\n",
       "          0.2370555 ],\n",
       "        [-0.05335444,  0.24542005,  0.17518593, -0.35174662,  0.27901325,\n",
       "         -0.1244346 ,  0.2761853 ,  0.23854068,  0.2184532 , -0.26345986,\n",
       "         -0.14670631,  0.2990694 , -0.05712938,  0.09270546, -0.22290565,\n",
       "         -0.17423743],\n",
       "        [-0.2633793 , -0.24040195,  0.31054246,  0.20132431, -0.35125622,\n",
       "         -0.11323609,  0.27464548,  0.06188177, -0.03667581,  0.2441537 ,\n",
       "         -0.36344185,  0.3552304 , -0.06367067, -0.04999284,  0.26608083,\n",
       "          0.07115239],\n",
       "        [ 0.26394364, -0.08229634,  0.28695676, -0.35163426, -0.24313943,\n",
       "         -0.0681926 ,  0.05115977, -0.21640417,  0.31705192, -0.26878595,\n",
       "         -0.20979537,  0.03356296, -0.10463807,  0.29793498, -0.31923616,\n",
       "         -0.03783497],\n",
       "        [ 0.26914135, -0.01115963, -0.3453575 ,  0.2963805 , -0.28569368,\n",
       "          0.24870321, -0.24793456,  0.05297548, -0.2835613 ,  0.16857788,\n",
       "         -0.08159789,  0.0606612 , -0.32672474, -0.34047708, -0.16142774,\n",
       "          0.06995896],\n",
       "        [-0.19559634, -0.29698613,  0.15254824,  0.18538067, -0.3335176 ,\n",
       "         -0.24585524, -0.26683646, -0.15587781, -0.27106085, -0.29323643,\n",
       "          0.26408082, -0.10110626,  0.18433753, -0.10783852,  0.33586374,\n",
       "         -0.3329555 ],\n",
       "        [-0.07602745, -0.18626373,  0.29766557, -0.08708423, -0.2108547 ,\n",
       "         -0.23981553,  0.26095918,  0.24165949,  0.13150993, -0.3309641 ,\n",
       "         -0.21889037,  0.19695222,  0.01297981, -0.06287116, -0.20234182,\n",
       "         -0.00610185],\n",
       "        [-0.16488692, -0.20188886, -0.07436172,  0.17757018,  0.21244761,\n",
       "          0.02363016,  0.24518383,  0.07761543,  0.23024544,  0.19546296,\n",
       "          0.27089247,  0.33579975, -0.18732157,  0.1390204 ,  0.3485242 ,\n",
       "          0.0686094 ],\n",
       "        [ 0.10629167,  0.04973799, -0.10239141,  0.029551  , -0.25008202,\n",
       "          0.22125803,  0.06032641, -0.3226051 , -0.20688538, -0.0802619 ,\n",
       "         -0.19401813, -0.2965149 , -0.1082809 ,  0.0350941 , -0.27224588,\n",
       "         -0.01940096],\n",
       "        [ 0.2500914 ,  0.01452911, -0.10880993, -0.3491805 ,  0.04597497,\n",
       "          0.05098683, -0.14168784, -0.19298199,  0.18526593, -0.01696444,\n",
       "          0.11784285,  0.23481509,  0.2759541 , -0.11969385,  0.26693842,\n",
       "          0.11636442],\n",
       "        [-0.33959284,  0.3162196 ,  0.05389968,  0.00093877,  0.06613144,\n",
       "          0.08821857, -0.351537  ,  0.20145485,  0.24782649, -0.04273269,\n",
       "          0.00109261,  0.16259405,  0.28674945,  0.3475211 ,  0.118801  ,\n",
       "         -0.2573377 ],\n",
       "        [ 0.17100832,  0.09821341, -0.04832195, -0.01397555,  0.12581077,\n",
       "          0.22422951, -0.09753633, -0.15672883,  0.3278095 , -0.08571348,\n",
       "          0.23264565, -0.14314267, -0.34063834,  0.12347911,  0.31040868,\n",
       "          0.13697645],\n",
       "        [-0.21901272, -0.3094885 , -0.00607985,  0.2594811 ,  0.02085367,\n",
       "         -0.18507524, -0.3232783 ,  0.13277683,  0.22578928,  0.1224404 ,\n",
       "         -0.02924722, -0.348479  , -0.11139235,  0.16490266,  0.23718938,\n",
       "          0.17297742]], dtype=float32),\n",
       " array([-0.03372358, -0.04917355,  0.00420718, -0.01411844,  0.        ,\n",
       "        -0.04775497,  0.11110079, -0.02668797,  0.05360176, -0.06002858,\n",
       "        -0.01200019,  0.05253396,  0.        , -0.0527696 , -0.05612312,\n",
       "        -0.07321055], dtype=float32),\n",
       " array([[ 0.06505289],\n",
       "        [ 0.3436236 ],\n",
       "        [ 0.00886771],\n",
       "        [ 0.5137982 ],\n",
       "        [ 0.31407785],\n",
       "        [ 0.53080857],\n",
       "        [-0.18394056],\n",
       "        [ 0.13216352],\n",
       "        [-0.4972636 ],\n",
       "        [ 0.13380581],\n",
       "        [ 0.30654952],\n",
       "        [-0.2890482 ],\n",
       "        [-0.12963307],\n",
       "        [ 0.5471398 ],\n",
       "        [ 0.40061858],\n",
       "        [ 0.03249831]], dtype=float32),\n",
       " array([-0.05512234], dtype=float32)]"
      ]
     },
     "execution_count": 52,
     "metadata": {},
     "output_type": "execute_result"
    }
   ],
   "source": [
    "model.get_weights()"
   ]
  }
 ],
 "metadata": {
  "kernelspec": {
   "display_name": "Python 3 (ipykernel)",
   "language": "python",
   "name": "python3"
  },
  "language_info": {
   "codemirror_mode": {
    "name": "ipython",
    "version": 3
   },
   "file_extension": ".py",
   "mimetype": "text/x-python",
   "name": "python",
   "nbconvert_exporter": "python",
   "pygments_lexer": "ipython3",
   "version": "3.9.12"
  }
 },
 "nbformat": 4,
 "nbformat_minor": 2
}
